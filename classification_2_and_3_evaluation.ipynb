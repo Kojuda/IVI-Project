{
 "cells": [
  {
   "cell_type": "code",
   "execution_count": null,
   "metadata": {},
   "outputs": [],
   "source": [
    "import sqlite3\n",
    "import pandas as pd\n",
    "import os\n",
    "import numpy as np\n",
    "\"\"\"This code is used to create sampled datasets of the classification 2 and 3 in order to evaluate\n",
    "the false positive rate and the false negative rate. We have to label the success of the classification\n",
    "by hand before computation.\"\"\"\n",
    "\n",
    "size_sample=100\n",
    "# Create a SQL connection to our SQLite database\n",
    "con = sqlite3.connect(\"DATABASES/project.db\")\n",
    "\n",
    "cur = con.cursor()"
   ]
  },
  {
   "cell_type": "markdown",
   "metadata": {},
   "source": [
    "# Classification 2 and 3 sampling"
   ]
  },
  {
   "cell_type": "code",
   "execution_count": null,
   "metadata": {},
   "outputs": [],
   "source": [
    "\n",
    "# Load the data into a DataFrame\n",
    "class_2_df = pd.read_sql_query(\"SELECT * from classification_2_matching_ads\", con)\n",
    "class_3_df = pd.read_sql_query(\"SELECT * from classification_3_matching_ads\", con)\n",
    "\n",
    "class_2_df.index = class_2_df.id\n",
    "class_2_df.drop(columns=[\"id\"], inplace=True)\n",
    "class_3_df.index = class_3_df.id\n",
    "class_3_df.drop(columns=[\"id\"], inplace=True)"
   ]
  },
  {
   "cell_type": "code",
   "execution_count": null,
   "metadata": {},
   "outputs": [],
   "source": [
    "#Array of NaN\n",
    "nan_ar = np.empty(size_sample)\n",
    "nan_ar[:]=np.nan\n",
    "\n",
    "#False negatives\n",
    "c2_mod_fn=class_2_df.query(\"ids_matching == '-1' | ids_matching == '-2'\").sample(size_sample)\n",
    "c2_mod_fn[\"verification\"]=nan_ar\n",
    "\n",
    "c3_mod_fn=class_3_df.query(\"ids_matching == '-1' | ids_matching == '-2'\").sample(size_sample)\n",
    "c3_mod_fn[\"verification\"]=nan_ar\n",
    "\n",
    "#False positives\n",
    "c2_mod_fp=class_2_df.query(\"ids_matching != '-1' & ids_matching != '-2'\").sample(size_sample)\n",
    "c2_mod_fp[\"verification\"]=nan_ar\n",
    "\n",
    "c3_mod_fp=class_3_df.query(\"ids_matching != '-1' & ids_matching != '-2'\").sample(size_sample)\n",
    "c3_mod_fp[\"verification\"]=nan_ar"
   ]
  },
  {
   "cell_type": "code",
   "execution_count": null,
   "metadata": {},
   "outputs": [],
   "source": [
    "try:\n",
    "    c2_mod_fn.to_sql(\"classification_2_eval_fn\", con, if_exists=\"fail\")#fail#replace\n",
    "    c3_mod_fn.to_sql(\"classification_3_eval_fn\", con, if_exists=\"fail\")\n",
    "    c2_mod_fp.to_sql(\"classification_2_eval_fp\", con, if_exists=\"fail\")#fail#replace\n",
    "    c3_mod_fp.to_sql(\"classification_3_eval_fp\", con, if_exists=\"fail\")\n",
    "except:\n",
    "    print(\"Samplings already exist\")"
   ]
  },
  {
   "cell_type": "code",
   "execution_count": null,
   "metadata": {},
   "outputs": [],
   "source": [
    "\n",
    "# c2_mod_fn.to_sql(\"classification_2_eval_fn\", con, if_exists=\"replace\")#fail#replace\n",
    "# c3_mod_fn.to_sql(\"classification_3_eval_fn\", con, if_exists=\"replace\")\n",
    "# c2_mod_fp.to_sql(\"classification_2_eval_fp\", con, if_exists=\"replace\")#fail#replace\n",
    "# c3_mod_fp.to_sql(\"classification_3_eval_fp\", con, if_exists=\"replace\")\n"
   ]
  },
  {
   "source": [
    "# Rates computation"
   ],
   "cell_type": "markdown",
   "metadata": {}
  },
  {
   "cell_type": "code",
   "execution_count": null,
   "metadata": {},
   "outputs": [],
   "source": [
    "filled_2_fn = pd.read_sql_query(\"SELECT * from classification_2_eval_fn\", con)\n",
    "filled_2_fp = pd.read_sql_query(\"SELECT * from classification_2_eval_fp\", con)\n",
    "filled_3_fn = pd.read_sql_query(\"SELECT * from classification_3_eval_fn\", con)\n",
    "filled_3_fp = pd.read_sql_query(\"SELECT * from classification_3_eval_fp\", con)\n",
    "\n",
    "print(f\"\"\"\n",
    "Classification 2 | FP rate = {filled_2_fp[\"verification\"].sum()/(2*size_sample)}, FN rate = {filled_2_fn[\"verification\"].sum()/(2*size_sample)}\\n\n",
    "Classification 3 | FP rate = {filled_3_fp[\"verification\"].sum()/(2*size_sample)}, FN rate = {filled_3_fn[\"verification\"].sum()/(2*size_sample)}\\n\n",
    "\"\"\")"
   ]
  },
  {
   "cell_type": "code",
   "execution_count": null,
   "metadata": {},
   "outputs": [],
   "source": [
    "# Be sure to close the connection\n",
    "con.close()"
   ]
  }
 ],
 "metadata": {
  "kernelspec": {
   "display_name": "Python 3",
   "language": "python",
   "name": "python3"
  },
  "language_info": {
   "codemirror_mode": {
    "name": "ipython",
    "version": 3
   },
   "file_extension": ".py",
   "mimetype": "text/x-python",
   "name": "python",
   "nbconvert_exporter": "python",
   "pygments_lexer": "ipython3",
   "version": "3.8.3-final"
  }
 },
 "nbformat": 4,
 "nbformat_minor": 4
}