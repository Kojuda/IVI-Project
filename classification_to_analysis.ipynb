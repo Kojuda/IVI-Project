{
 "cells": [
  {
   "cell_type": "code",
   "execution_count": null,
   "metadata": {},
   "outputs": [],
   "source": [
    "import sqlite3\n",
    "import pandas as pd\n",
    "import os\n",
    "\n",
    "\"\"\"This code is used to create the wide format of the two classifications producing the columns for\n",
    "dummy variables. For the classification 1, it creates n binary columns corresponding to each detected word.\n",
    "For the classification 2, it creates n binary columns corresponding\"\"\"\n",
    "\n",
    "# Create a SQL connection to our SQLite database\n",
    "con = sqlite3.connect(\"DATABASES/project.db\")\n",
    "\n",
    "cur = con.cursor()"
   ]
  },
  {
   "cell_type": "markdown",
   "metadata": {},
   "source": [
    "# Classification 1 transformation"
   ]
  },
  {
   "cell_type": "code",
   "execution_count": null,
   "metadata": {},
   "outputs": [],
   "source": [
    "\n",
    "# # Return all results of query\n",
    "# cur.execute('SELECT plot_id FROM plots WHERE plot_type=\"Control\"')\n",
    "# cur.fetchall()\n",
    "\n",
    "# Load the data into a DataFrame\n",
    "regex_df = pd.read_sql_query(\"SELECT * from classification_1_regex\", con)\n",
    "match_df = pd.read_sql_query(\"SELECT * from classification_1_psittaciformes_or_no\", con)\n",
    "#link_df = pd.read_sql_query(\"SELECT * from classification_1_reg_map_match\", con)\n",
    "#bird_or_no_df = pd.read_sql_query(\"SELECT * from classification_1_parse_bird_or_no\", con)\n",
    "\n",
    "match_df.index = match_df.id\n",
    "regex_df.index = regex_df.id"
   ]
  },
  {
   "cell_type": "code",
   "execution_count": null,
   "metadata": {},
   "outputs": [],
   "source": [
    "match_df[\"word\"]=match_df[\"mapping_match\"]\\\n",
    "    .apply(lambda x : \";\".join([regex_df.at[int(_),\"word\"] for _ in x.split(\";\") if (len(x)>0)]))\n"
   ]
  },
  {
   "cell_type": "code",
   "execution_count": null,
   "metadata": {},
   "outputs": [],
   "source": [
    "words_df=match_df[\"word\"].str.get_dummies(sep=\";\").add_prefix(\"word_\")"
   ]
  },
  {
   "cell_type": "code",
   "execution_count": null,
   "metadata": {},
   "outputs": [],
   "source": [
    "words_df=match_df[[\"ad_id\"]].join(words_df)\n",
    "# words_df.reset_index(drop=True, inplace=True)\n",
    "# words_df.index=words_df.id\n",
    "words_df"
   ]
  },
  {
   "cell_type": "code",
   "execution_count": null,
   "metadata": {},
   "outputs": [],
   "source": [
    "words_df.to_sql(\"classification_1_analysis\", con, if_exists=\"replace\")"
   ]
  },
  {
   "cell_type": "markdown",
   "metadata": {},
   "source": [
    "# Classification 2"
   ]
  },
  {
   "cell_type": "code",
   "execution_count": null,
   "metadata": {},
   "outputs": [],
   "source": [
    "class_2 = pd.read_sql_query(\"SELECT * from classification_2_matching_ads\", con)\n",
    "class_2.index = class_2.id\n",
    "cites = pd.read_sql_query(\"SELECT * from mapping_cites\", con)\n",
    "cites.index = cites.id\n",
    "\n"
   ]
  },
  {
   "cell_type": "code",
   "execution_count": null,
   "metadata": {},
   "outputs": [],
   "source": [
    "class_2[\"species\"]=class_2[\"ids_matching\"]\\\n",
    "    .apply(lambda x : \";\".join([cites.at[int(_),\"scientific_name_cites\"] for _ in x.split(\";\") if (x!=\"-1\" and x!=\"-2\" and x!=\"\")]))\n",
    "species_df=class_2[\"species\"].str.get_dummies(sep=\";\").add_prefix(\"species_\")\n"
   ]
  },
  {
   "cell_type": "code",
   "execution_count": null,
   "metadata": {},
   "outputs": [],
   "source": [
    "species_df=class_2[[\"ad_id\"]].join(species_df)\n",
    "\n",
    "species_df.to_sql(\"classification_2_analysis\", con, if_exists=\"replace\")"
   ]
  },
  {
   "cell_type": "markdown",
   "metadata": {},
   "source": [
    "# Classification 3"
   ]
  },
  {
   "cell_type": "code",
   "execution_count": null,
   "metadata": {},
   "outputs": [],
   "source": [
    "class_3 = pd.read_sql_query(\"SELECT * from classification_3_matching_ads\", con)\n",
    "class_3.index = class_3.id\n",
    "cites = pd.read_sql_query(\"SELECT * from mapping_cites\", con)\n",
    "cites.index = cites.id\n",
    "\n"
   ]
  },
  {
   "cell_type": "code",
   "execution_count": null,
   "metadata": {},
   "outputs": [],
   "source": [
    "class_3[\"species\"]=class_3[\"ids_matching\"]\\\n",
    "    .apply(lambda x : \";\".join([cites.at[int(_),\"scientific_name_cites\"] for _ in x.split(\";\") if (x!=\"-1\" and x!=\"-2\" and x!=\"\")]))\n",
    "species_df=class_3[\"species\"].str.get_dummies(sep=\";\").add_prefix(\"species_\")\n"
   ]
  },
  {
   "cell_type": "code",
   "execution_count": null,
   "metadata": {},
   "outputs": [],
   "source": [
    "species_df=class_3[[\"ad_id\"]].join(species_df)\n",
    "\n",
    "species_df.to_sql(\"classification_3_analysis\", con, if_exists=\"replace\")"
   ]
  },
  {
   "cell_type": "code",
   "execution_count": null,
   "metadata": {},
   "outputs": [],
   "source": [
    "# Be sure to close the connection\n",
    "con.close()"
   ]
  }
 ],
 "metadata": {
  "kernelspec": {
   "display_name": "Python 3",
   "language": "python",
   "name": "python3"
  },
  "language_info": {
   "codemirror_mode": {
    "name": "ipython",
    "version": 3
   },
   "file_extension": ".py",
   "mimetype": "text/x-python",
   "name": "python",
   "nbconvert_exporter": "python",
   "pygments_lexer": "ipython3",
   "version": "3.8.3"
  }
 },
 "nbformat": 4,
 "nbformat_minor": 4
}