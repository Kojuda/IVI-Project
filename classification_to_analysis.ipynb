{
 "cells": [
  {
   "cell_type": "code",
   "execution_count": 136,
   "metadata": {},
   "outputs": [],
   "source": [
    "import sqlite3\n",
    "import pandas as pd\n",
    "import os\n",
    "\n",
    "\"\"\"This code is used to create the wide format of the two classifications producing the columns with\n",
    "dummy variables. For the classification 1, it creates n binary columns corresponding to each detected word.\n",
    "For the classification 2 and 3, it creates n binary columns corresponding. Then all the columns are stacked\n",
    "to be used easily by Tableau that doesn't know how to match column to row as relationship\"\"\"\n",
    "\n",
    "# Create a SQL connection to our SQLite database\n",
    "con = sqlite3.connect(\"DATABASES/project.db\")\n",
    "\n",
    "cur = con.cursor()"
   ]
  },
  {
   "cell_type": "markdown",
   "metadata": {},
   "source": [
    "# Classification 1 transformation"
   ]
  },
  {
   "cell_type": "code",
   "execution_count": 137,
   "metadata": {},
   "outputs": [],
   "source": [
    "\n",
    "# Load the data into a DataFrame\n",
    "regex_df = pd.read_sql_query(\"SELECT * from classification_1_regex\", con)\n",
    "match_df = pd.read_sql_query(\"SELECT * from classification_1_psittaciformes_or_no\", con)\n",
    "\n",
    "match_df.index = match_df.id\n",
    "regex_df.index = regex_df.id"
   ]
  },
  {
   "cell_type": "code",
   "execution_count": 138,
   "metadata": {},
   "outputs": [],
   "source": [
    "match_df[\"word\"]=match_df[\"mapping_match\"]\\\n",
    "    .apply(lambda x : \";\".join([regex_df.at[int(_),\"word\"] for _ in x.split(\";\") if (len(x)>0)]))\n"
   ]
  },
  {
   "cell_type": "code",
   "execution_count": 139,
   "metadata": {},
   "outputs": [],
   "source": [
    "words_df=match_df[\"word\"].str.get_dummies(sep=\";\").add_prefix(\"word_\")"
   ]
  },
  {
   "cell_type": "code",
   "execution_count": 140,
   "metadata": {},
   "outputs": [
    {
     "output_type": "execute_result",
     "data": {
      "text/plain": [
       "           ad_id  word_(amazona)  word_african  word_africà  word_ailes  \\\n",
       "id                                                                        \n",
       "1      552731_us               0             1            1           0   \n",
       "2      552645_us               0             1            1           0   \n",
       "3      552633_us               0             0            0           0   \n",
       "4      552632_us               0             0            0           0   \n",
       "5      552631_us               0             0            0           0   \n",
       "...          ...             ...           ...          ...         ...   \n",
       "25942    1060_ph               0             0            0           0   \n",
       "25943     925_ph               0             0            0           0   \n",
       "25944     523_ph               0             1            1           0   \n",
       "25945     344_ph               0             1            1           0   \n",
       "25946     125_ph               0             1            1           0   \n",
       "\n",
       "       word_all-blue  word_amazon  word_amazona  word_amazone  word_ara  ...  \\\n",
       "id                                                                       ...   \n",
       "1                  0            0             0             0         0  ...   \n",
       "2                  0            0             0             0         0  ...   \n",
       "3                  0            0             0             0         1  ...   \n",
       "4                  0            1             0             0         0  ...   \n",
       "5                  0            0             0             0         0  ...   \n",
       "...              ...          ...           ...           ...       ...  ...   \n",
       "25942              0            0             0             0         0  ...   \n",
       "25943              0            0             0             0         0  ...   \n",
       "25944              0            0             0             0         0  ...   \n",
       "25945              0            0             0             0         0  ...   \n",
       "25946              0            0             0             0         0  ...   \n",
       "\n",
       "       word_versicolor  word_vert  word_vicente  word_vincent  word_yaco  \\\n",
       "id                                                                         \n",
       "1                    0          0             0             0          0   \n",
       "2                    0          0             0             0          0   \n",
       "3                    0          0             0             0          0   \n",
       "4                    0          0             0             0          0   \n",
       "5                    0          0             0             0          0   \n",
       "...                ...        ...           ...           ...        ...   \n",
       "25942                0          0             0             0          0   \n",
       "25943                0          0             0             0          0   \n",
       "25944                0          0             0             0          0   \n",
       "25945                0          0             0             0          0   \n",
       "25946                0          0             0             0          0   \n",
       "\n",
       "       word_yellow-collared  word_yellow-crested  word_yellow-headed  \\\n",
       "id                                                                     \n",
       "1                         0                    0                   0   \n",
       "2                         0                    0                   0   \n",
       "3                         0                    0                   0   \n",
       "4                         0                    0                   0   \n",
       "5                         0                    0                   0   \n",
       "...                     ...                  ...                 ...   \n",
       "25942                     0                    0                   0   \n",
       "25943                     0                    0                   0   \n",
       "25944                     0                    0                   0   \n",
       "25945                     0                    0                   0   \n",
       "25946                     0                    0                   0   \n",
       "\n",
       "       word_yellow-naped  word_yellow-shouldered  \n",
       "id                                                \n",
       "1                      0                       0  \n",
       "2                      0                       0  \n",
       "3                      0                       0  \n",
       "4                      0                       0  \n",
       "5                      0                       0  \n",
       "...                  ...                     ...  \n",
       "25942                  0                       0  \n",
       "25943                  0                       0  \n",
       "25944                  0                       0  \n",
       "25945                  0                       0  \n",
       "25946                  0                       0  \n",
       "\n",
       "[25946 rows x 163 columns]"
      ],
      "text/html": "<div>\n<style scoped>\n    .dataframe tbody tr th:only-of-type {\n        vertical-align: middle;\n    }\n\n    .dataframe tbody tr th {\n        vertical-align: top;\n    }\n\n    .dataframe thead th {\n        text-align: right;\n    }\n</style>\n<table border=\"1\" class=\"dataframe\">\n  <thead>\n    <tr style=\"text-align: right;\">\n      <th></th>\n      <th>ad_id</th>\n      <th>word_(amazona)</th>\n      <th>word_african</th>\n      <th>word_africà</th>\n      <th>word_ailes</th>\n      <th>word_all-blue</th>\n      <th>word_amazon</th>\n      <th>word_amazona</th>\n      <th>word_amazone</th>\n      <th>word_ara</th>\n      <th>...</th>\n      <th>word_versicolor</th>\n      <th>word_vert</th>\n      <th>word_vicente</th>\n      <th>word_vincent</th>\n      <th>word_yaco</th>\n      <th>word_yellow-collared</th>\n      <th>word_yellow-crested</th>\n      <th>word_yellow-headed</th>\n      <th>word_yellow-naped</th>\n      <th>word_yellow-shouldered</th>\n    </tr>\n    <tr>\n      <th>id</th>\n      <th></th>\n      <th></th>\n      <th></th>\n      <th></th>\n      <th></th>\n      <th></th>\n      <th></th>\n      <th></th>\n      <th></th>\n      <th></th>\n      <th></th>\n      <th></th>\n      <th></th>\n      <th></th>\n      <th></th>\n      <th></th>\n      <th></th>\n      <th></th>\n      <th></th>\n      <th></th>\n      <th></th>\n    </tr>\n  </thead>\n  <tbody>\n    <tr>\n      <th>1</th>\n      <td>552731_us</td>\n      <td>0</td>\n      <td>1</td>\n      <td>1</td>\n      <td>0</td>\n      <td>0</td>\n      <td>0</td>\n      <td>0</td>\n      <td>0</td>\n      <td>0</td>\n      <td>...</td>\n      <td>0</td>\n      <td>0</td>\n      <td>0</td>\n      <td>0</td>\n      <td>0</td>\n      <td>0</td>\n      <td>0</td>\n      <td>0</td>\n      <td>0</td>\n      <td>0</td>\n    </tr>\n    <tr>\n      <th>2</th>\n      <td>552645_us</td>\n      <td>0</td>\n      <td>1</td>\n      <td>1</td>\n      <td>0</td>\n      <td>0</td>\n      <td>0</td>\n      <td>0</td>\n      <td>0</td>\n      <td>0</td>\n      <td>...</td>\n      <td>0</td>\n      <td>0</td>\n      <td>0</td>\n      <td>0</td>\n      <td>0</td>\n      <td>0</td>\n      <td>0</td>\n      <td>0</td>\n      <td>0</td>\n      <td>0</td>\n    </tr>\n    <tr>\n      <th>3</th>\n      <td>552633_us</td>\n      <td>0</td>\n      <td>0</td>\n      <td>0</td>\n      <td>0</td>\n      <td>0</td>\n      <td>0</td>\n      <td>0</td>\n      <td>0</td>\n      <td>1</td>\n      <td>...</td>\n      <td>0</td>\n      <td>0</td>\n      <td>0</td>\n      <td>0</td>\n      <td>0</td>\n      <td>0</td>\n      <td>0</td>\n      <td>0</td>\n      <td>0</td>\n      <td>0</td>\n    </tr>\n    <tr>\n      <th>4</th>\n      <td>552632_us</td>\n      <td>0</td>\n      <td>0</td>\n      <td>0</td>\n      <td>0</td>\n      <td>0</td>\n      <td>1</td>\n      <td>0</td>\n      <td>0</td>\n      <td>0</td>\n      <td>...</td>\n      <td>0</td>\n      <td>0</td>\n      <td>0</td>\n      <td>0</td>\n      <td>0</td>\n      <td>0</td>\n      <td>0</td>\n      <td>0</td>\n      <td>0</td>\n      <td>0</td>\n    </tr>\n    <tr>\n      <th>5</th>\n      <td>552631_us</td>\n      <td>0</td>\n      <td>0</td>\n      <td>0</td>\n      <td>0</td>\n      <td>0</td>\n      <td>0</td>\n      <td>0</td>\n      <td>0</td>\n      <td>0</td>\n      <td>...</td>\n      <td>0</td>\n      <td>0</td>\n      <td>0</td>\n      <td>0</td>\n      <td>0</td>\n      <td>0</td>\n      <td>0</td>\n      <td>0</td>\n      <td>0</td>\n      <td>0</td>\n    </tr>\n    <tr>\n      <th>...</th>\n      <td>...</td>\n      <td>...</td>\n      <td>...</td>\n      <td>...</td>\n      <td>...</td>\n      <td>...</td>\n      <td>...</td>\n      <td>...</td>\n      <td>...</td>\n      <td>...</td>\n      <td>...</td>\n      <td>...</td>\n      <td>...</td>\n      <td>...</td>\n      <td>...</td>\n      <td>...</td>\n      <td>...</td>\n      <td>...</td>\n      <td>...</td>\n      <td>...</td>\n      <td>...</td>\n    </tr>\n    <tr>\n      <th>25942</th>\n      <td>1060_ph</td>\n      <td>0</td>\n      <td>0</td>\n      <td>0</td>\n      <td>0</td>\n      <td>0</td>\n      <td>0</td>\n      <td>0</td>\n      <td>0</td>\n      <td>0</td>\n      <td>...</td>\n      <td>0</td>\n      <td>0</td>\n      <td>0</td>\n      <td>0</td>\n      <td>0</td>\n      <td>0</td>\n      <td>0</td>\n      <td>0</td>\n      <td>0</td>\n      <td>0</td>\n    </tr>\n    <tr>\n      <th>25943</th>\n      <td>925_ph</td>\n      <td>0</td>\n      <td>0</td>\n      <td>0</td>\n      <td>0</td>\n      <td>0</td>\n      <td>0</td>\n      <td>0</td>\n      <td>0</td>\n      <td>0</td>\n      <td>...</td>\n      <td>0</td>\n      <td>0</td>\n      <td>0</td>\n      <td>0</td>\n      <td>0</td>\n      <td>0</td>\n      <td>0</td>\n      <td>0</td>\n      <td>0</td>\n      <td>0</td>\n    </tr>\n    <tr>\n      <th>25944</th>\n      <td>523_ph</td>\n      <td>0</td>\n      <td>1</td>\n      <td>1</td>\n      <td>0</td>\n      <td>0</td>\n      <td>0</td>\n      <td>0</td>\n      <td>0</td>\n      <td>0</td>\n      <td>...</td>\n      <td>0</td>\n      <td>0</td>\n      <td>0</td>\n      <td>0</td>\n      <td>0</td>\n      <td>0</td>\n      <td>0</td>\n      <td>0</td>\n      <td>0</td>\n      <td>0</td>\n    </tr>\n    <tr>\n      <th>25945</th>\n      <td>344_ph</td>\n      <td>0</td>\n      <td>1</td>\n      <td>1</td>\n      <td>0</td>\n      <td>0</td>\n      <td>0</td>\n      <td>0</td>\n      <td>0</td>\n      <td>0</td>\n      <td>...</td>\n      <td>0</td>\n      <td>0</td>\n      <td>0</td>\n      <td>0</td>\n      <td>0</td>\n      <td>0</td>\n      <td>0</td>\n      <td>0</td>\n      <td>0</td>\n      <td>0</td>\n    </tr>\n    <tr>\n      <th>25946</th>\n      <td>125_ph</td>\n      <td>0</td>\n      <td>1</td>\n      <td>1</td>\n      <td>0</td>\n      <td>0</td>\n      <td>0</td>\n      <td>0</td>\n      <td>0</td>\n      <td>0</td>\n      <td>...</td>\n      <td>0</td>\n      <td>0</td>\n      <td>0</td>\n      <td>0</td>\n      <td>0</td>\n      <td>0</td>\n      <td>0</td>\n      <td>0</td>\n      <td>0</td>\n      <td>0</td>\n    </tr>\n  </tbody>\n</table>\n<p>25946 rows × 163 columns</p>\n</div>"
     },
     "metadata": {},
     "execution_count": 140
    }
   ],
   "source": [
    "words_df=match_df[[\"ad_id\"]].join(words_df)\n",
    "words_df"
   ]
  },
  {
   "cell_type": "code",
   "execution_count": 141,
   "metadata": {},
   "outputs": [],
   "source": [
    "words_df.to_sql(\"classification_1_analysis\", con, if_exists=\"replace\")"
   ]
  },
  {
   "cell_type": "markdown",
   "metadata": {},
   "source": [
    "# Classification 2"
   ]
  },
  {
   "cell_type": "code",
   "execution_count": 142,
   "metadata": {},
   "outputs": [],
   "source": [
    "class_2 = pd.read_sql_query(\"SELECT * from classification_2_matching_ads\", con)\n",
    "class_2.index = class_2.id\n",
    "cites = pd.read_sql_query(\"SELECT * from mapping_cites\", con)\n",
    "cites.index = cites.id\n",
    "\n"
   ]
  },
  {
   "cell_type": "code",
   "execution_count": 143,
   "metadata": {},
   "outputs": [],
   "source": [
    "class_2[\"species\"]=class_2[\"ids_matching\"]\\\n",
    "    .apply(lambda x : \";\".join([cites.at[int(_),\"scientific_name_cites\"] for _ in x.split(\";\") if (x!=\"-1\" and x!=\"-2\" and x!=\"\")])) #Replace all the ID's per the scientific name for each match per row\n",
    "species_df=class_2[\"species\"].str.get_dummies(sep=\";\").add_prefix(\"\") #Get dummy variables to spread the species on the columns#Just if we want add a prefix later\n"
   ]
  },
  {
   "cell_type": "code",
   "execution_count": 144,
   "metadata": {},
   "outputs": [
    {
     "output_type": "display_data",
     "data": {
      "text/plain": "             ad_id                 species  count\n0        552731_us         Agapornis canus      0\n1        552731_us      Agapornis fischeri      0\n2        552731_us    Agapornis nigrigenis      0\n3        552731_us    Agapornis personatus      0\n4        552731_us     Agapornis pullarius      0\n...            ...                     ...    ...\n1245403     125_ph  Psephotus pulcherrimus      0\n1245404     125_ph      Psittacula krameri      0\n1245405     125_ph     Psittacus erithacus      0\n1245406     125_ph      Pyrrhura cruentata      0\n1245407     125_ph    Strigops habroptilus      0\n\n[1245408 rows x 3 columns]",
      "text/html": "<div>\n<style scoped>\n    .dataframe tbody tr th:only-of-type {\n        vertical-align: middle;\n    }\n\n    .dataframe tbody tr th {\n        vertical-align: top;\n    }\n\n    .dataframe thead th {\n        text-align: right;\n    }\n</style>\n<table border=\"1\" class=\"dataframe\">\n  <thead>\n    <tr style=\"text-align: right;\">\n      <th></th>\n      <th>ad_id</th>\n      <th>species</th>\n      <th>count</th>\n    </tr>\n  </thead>\n  <tbody>\n    <tr>\n      <th>0</th>\n      <td>552731_us</td>\n      <td>Agapornis canus</td>\n      <td>0</td>\n    </tr>\n    <tr>\n      <th>1</th>\n      <td>552731_us</td>\n      <td>Agapornis fischeri</td>\n      <td>0</td>\n    </tr>\n    <tr>\n      <th>2</th>\n      <td>552731_us</td>\n      <td>Agapornis nigrigenis</td>\n      <td>0</td>\n    </tr>\n    <tr>\n      <th>3</th>\n      <td>552731_us</td>\n      <td>Agapornis personatus</td>\n      <td>0</td>\n    </tr>\n    <tr>\n      <th>4</th>\n      <td>552731_us</td>\n      <td>Agapornis pullarius</td>\n      <td>0</td>\n    </tr>\n    <tr>\n      <th>...</th>\n      <td>...</td>\n      <td>...</td>\n      <td>...</td>\n    </tr>\n    <tr>\n      <th>1245403</th>\n      <td>125_ph</td>\n      <td>Psephotus pulcherrimus</td>\n      <td>0</td>\n    </tr>\n    <tr>\n      <th>1245404</th>\n      <td>125_ph</td>\n      <td>Psittacula krameri</td>\n      <td>0</td>\n    </tr>\n    <tr>\n      <th>1245405</th>\n      <td>125_ph</td>\n      <td>Psittacus erithacus</td>\n      <td>0</td>\n    </tr>\n    <tr>\n      <th>1245406</th>\n      <td>125_ph</td>\n      <td>Pyrrhura cruentata</td>\n      <td>0</td>\n    </tr>\n    <tr>\n      <th>1245407</th>\n      <td>125_ph</td>\n      <td>Strigops habroptilus</td>\n      <td>0</td>\n    </tr>\n  </tbody>\n</table>\n<p>1245408 rows × 3 columns</p>\n</div>"
     },
     "metadata": {}
    }
   ],
   "source": [
    "species_df=class_2[[\"ad_id\"]].join(species_df) #Add the add_id to dataframe\n",
    "#Stack the dataframe to put the columns vertically \n",
    "species_df.index=species_df[\"ad_id\"]\n",
    "species_df=species_df.drop(columns=[\"ad_id\"])\n",
    "species_df=species_df.stack().to_frame().reset_index() #reindex to obtain a primary key\n",
    "species_df=species_df.rename(columns={species_df.columns[0] : \"ad_id\", species_df.columns[1] : \"species\", species_df.columns[2] : \"count\"})\n",
    "display(species_df)\n",
    "species_df.to_sql(\"classification_2_analysis\", con, if_exists=\"replace\")"
   ]
  },
  {
   "cell_type": "markdown",
   "metadata": {},
   "source": [
    "# Classification 3"
   ]
  },
  {
   "cell_type": "code",
   "execution_count": 145,
   "metadata": {},
   "outputs": [],
   "source": [
    "class_3 = pd.read_sql_query(\"SELECT * from classification_3_matching_ads\", con)\n",
    "class_3.index = class_3.id\n",
    "cites = pd.read_sql_query(\"SELECT * from mapping_cites\", con)\n",
    "cites.index = cites.id\n",
    "\n"
   ]
  },
  {
   "cell_type": "code",
   "execution_count": 146,
   "metadata": {},
   "outputs": [],
   "source": [
    "class_3[\"species\"]=class_3[\"ids_matching\"]\\\n",
    "    .apply(lambda x : \";\".join([cites.at[int(_),\"scientific_name_cites\"] for _ in x.split(\";\") if (x!=\"-1\" and x!=\"-2\" and x!=\"\")])) #Replace all the ID's per the scientific name for each match per row\n",
    "species_df=class_3[\"species\"].str.get_dummies(sep=\";\").add_prefix(\"\") #Get dummy variables to spread the species on the columns#Just if we want add a prefix later\n"
   ]
  },
  {
   "cell_type": "code",
   "execution_count": 147,
   "metadata": {},
   "outputs": [
    {
     "output_type": "display_data",
     "data": {
      "text/plain": "             ad_id                 species  count\n0        552731_us      Agapornis fischeri      0\n1        552731_us    Agapornis personatus      0\n2        552731_us   Agapornis roseicollis      0\n3        552731_us       Amazona arausiaca      0\n4        552731_us    Amazona auropalliata      0\n...            ...                     ...    ...\n1011889     125_ph    Psephotus dissimilis      0\n1011890     125_ph  Psephotus pulcherrimus      0\n1011891     125_ph      Psittacula krameri      0\n1011892     125_ph     Psittacus erithacus      0\n1011893     125_ph    Strigops habroptilus      0\n\n[1011894 rows x 3 columns]",
      "text/html": "<div>\n<style scoped>\n    .dataframe tbody tr th:only-of-type {\n        vertical-align: middle;\n    }\n\n    .dataframe tbody tr th {\n        vertical-align: top;\n    }\n\n    .dataframe thead th {\n        text-align: right;\n    }\n</style>\n<table border=\"1\" class=\"dataframe\">\n  <thead>\n    <tr style=\"text-align: right;\">\n      <th></th>\n      <th>ad_id</th>\n      <th>species</th>\n      <th>count</th>\n    </tr>\n  </thead>\n  <tbody>\n    <tr>\n      <th>0</th>\n      <td>552731_us</td>\n      <td>Agapornis fischeri</td>\n      <td>0</td>\n    </tr>\n    <tr>\n      <th>1</th>\n      <td>552731_us</td>\n      <td>Agapornis personatus</td>\n      <td>0</td>\n    </tr>\n    <tr>\n      <th>2</th>\n      <td>552731_us</td>\n      <td>Agapornis roseicollis</td>\n      <td>0</td>\n    </tr>\n    <tr>\n      <th>3</th>\n      <td>552731_us</td>\n      <td>Amazona arausiaca</td>\n      <td>0</td>\n    </tr>\n    <tr>\n      <th>4</th>\n      <td>552731_us</td>\n      <td>Amazona auropalliata</td>\n      <td>0</td>\n    </tr>\n    <tr>\n      <th>...</th>\n      <td>...</td>\n      <td>...</td>\n      <td>...</td>\n    </tr>\n    <tr>\n      <th>1011889</th>\n      <td>125_ph</td>\n      <td>Psephotus dissimilis</td>\n      <td>0</td>\n    </tr>\n    <tr>\n      <th>1011890</th>\n      <td>125_ph</td>\n      <td>Psephotus pulcherrimus</td>\n      <td>0</td>\n    </tr>\n    <tr>\n      <th>1011891</th>\n      <td>125_ph</td>\n      <td>Psittacula krameri</td>\n      <td>0</td>\n    </tr>\n    <tr>\n      <th>1011892</th>\n      <td>125_ph</td>\n      <td>Psittacus erithacus</td>\n      <td>0</td>\n    </tr>\n    <tr>\n      <th>1011893</th>\n      <td>125_ph</td>\n      <td>Strigops habroptilus</td>\n      <td>0</td>\n    </tr>\n  </tbody>\n</table>\n<p>1011894 rows × 3 columns</p>\n</div>"
     },
     "metadata": {}
    }
   ],
   "source": [
    "species_df=class_3[[\"ad_id\"]].join(species_df) #Add the add_id to dataframe\n",
    "#Stack the dataframe to put the columns vertically \n",
    "species_df.index=species_df[\"ad_id\"]\n",
    "species_df=species_df.drop(columns=[\"ad_id\"])\n",
    "species_df=species_df.stack().to_frame().reset_index() #reindex to obtain a primary key\n",
    "species_df=species_df.rename(columns={species_df.columns[0] : \"ad_id\", species_df.columns[1] : \"species\", species_df.columns[2] : \"count\"})\n",
    "display(species_df)\n",
    "species_df.to_sql(\"classification_3_analysis\", con, if_exists=\"replace\")"
   ]
  },
  {
   "cell_type": "code",
   "execution_count": 148,
   "metadata": {},
   "outputs": [],
   "source": [
    "# Be sure to close the connection\n",
    "con.close()"
   ]
  }
 ],
 "metadata": {
  "kernelspec": {
   "display_name": "Python 3",
   "language": "python",
   "name": "python3"
  },
  "language_info": {
   "codemirror_mode": {
    "name": "ipython",
    "version": 3
   },
   "file_extension": ".py",
   "mimetype": "text/x-python",
   "name": "python",
   "nbconvert_exporter": "python",
   "pygments_lexer": "ipython3",
   "version": "3.8.3-final"
  }
 },
 "nbformat": 4,
 "nbformat_minor": 4
}