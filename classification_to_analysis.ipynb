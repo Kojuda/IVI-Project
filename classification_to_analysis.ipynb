{
 "cells": [
  {
   "cell_type": "code",
   "execution_count": 1,
   "metadata": {},
   "outputs": [],
   "source": [
    "import sqlite3\n",
    "import pandas as pd\n",
    "import os\n",
    "\n",
    "\"\"\"This code is used to create the wide format of the two classifications producing the columns for\n",
    "dummy variables. For the classification 1, it creates n binary columns corresponding to each detected word.\n",
    "For the classification 2, it creates n binary columns corresponding\"\"\"\n",
    "\n",
    "# Create a SQL connection to our SQLite database\n",
    "con = sqlite3.connect(\"DATABASES/project.db\")\n",
    "\n",
    "cur = con.cursor()"
   ]
  },
  {
   "cell_type": "markdown",
   "metadata": {},
   "source": [
    "# Classification 1 transformation"
   ]
  },
  {
   "cell_type": "code",
   "execution_count": 2,
   "metadata": {},
   "outputs": [],
   "source": [
    "\n",
    "# # Return all results of query\n",
    "# cur.execute('SELECT plot_id FROM plots WHERE plot_type=\"Control\"')\n",
    "# cur.fetchall()\n",
    "\n",
    "# Load the data into a DataFrame\n",
    "regex_df = pd.read_sql_query(\"SELECT * from classification_1_regex\", con)\n",
    "match_df = pd.read_sql_query(\"SELECT * from classification_1_psittaciformes_or_no\", con)\n",
    "#link_df = pd.read_sql_query(\"SELECT * from classification_1_reg_map_match\", con)\n",
    "#bird_or_no_df = pd.read_sql_query(\"SELECT * from classification_1_parse_bird_or_no\", con)\n",
    "\n",
    "match_df.index = match_df.id\n",
    "regex_df.index = regex_df.id"
   ]
  },
  {
   "cell_type": "code",
   "execution_count": 3,
   "metadata": {},
   "outputs": [],
   "source": [
    "match_df[\"word\"]=match_df[\"mapping_match\"]\\\n",
    "    .apply(lambda x : \";\".join([regex_df.at[int(_),\"word\"] for _ in x.split(\";\") if (len(x)>0)]))\n"
   ]
  },
  {
   "cell_type": "code",
   "execution_count": 4,
   "metadata": {},
   "outputs": [],
   "source": [
    "words_df=match_df[\"word\"].str.get_dummies(sep=\";\").add_prefix(\"word_\")"
   ]
  },
  {
   "cell_type": "code",
   "execution_count": 5,
   "metadata": {},
   "outputs": [
    {
     "output_type": "execute_result",
     "data": {
      "text/plain": [
       "           ad_id  word_(amazona)  word_african  word_africà  word_ailes  \\\n",
       "id                                                                        \n",
       "1      552731_us               0             1            1           0   \n",
       "2      552645_us               0             1            1           0   \n",
       "3      552633_us               0             0            0           0   \n",
       "4      552632_us               0             0            0           0   \n",
       "5      552631_us               0             0            0           0   \n",
       "...          ...             ...           ...          ...         ...   \n",
       "25942    1060_ph               0             0            0           0   \n",
       "25943     925_ph               0             0            0           0   \n",
       "25944     523_ph               0             1            1           0   \n",
       "25945     344_ph               0             1            1           0   \n",
       "25946     125_ph               0             1            1           0   \n",
       "\n",
       "       word_all-blue  word_amazon  word_amazona  word_amazone  word_ara  ...  \\\n",
       "id                                                                       ...   \n",
       "1                  0            0             0             0         0  ...   \n",
       "2                  0            0             0             0         0  ...   \n",
       "3                  0            0             0             0         1  ...   \n",
       "4                  0            1             0             0         0  ...   \n",
       "5                  0            0             0             0         0  ...   \n",
       "...              ...          ...           ...           ...       ...  ...   \n",
       "25942              0            0             0             0         0  ...   \n",
       "25943              0            0             0             0         0  ...   \n",
       "25944              0            0             0             0         0  ...   \n",
       "25945              0            0             0             0         0  ...   \n",
       "25946              0            0             0             0         0  ...   \n",
       "\n",
       "       word_versicolor  word_vert  word_vicente  word_vincent  word_yaco  \\\n",
       "id                                                                         \n",
       "1                    0          0             0             0          0   \n",
       "2                    0          0             0             0          0   \n",
       "3                    0          0             0             0          0   \n",
       "4                    0          0             0             0          0   \n",
       "5                    0          0             0             0          0   \n",
       "...                ...        ...           ...           ...        ...   \n",
       "25942                0          0             0             0          0   \n",
       "25943                0          0             0             0          0   \n",
       "25944                0          0             0             0          0   \n",
       "25945                0          0             0             0          0   \n",
       "25946                0          0             0             0          0   \n",
       "\n",
       "       word_yellow-collared  word_yellow-crested  word_yellow-headed  \\\n",
       "id                                                                     \n",
       "1                         0                    0                   0   \n",
       "2                         0                    0                   0   \n",
       "3                         0                    0                   0   \n",
       "4                         0                    0                   0   \n",
       "5                         0                    0                   0   \n",
       "...                     ...                  ...                 ...   \n",
       "25942                     0                    0                   0   \n",
       "25943                     0                    0                   0   \n",
       "25944                     0                    0                   0   \n",
       "25945                     0                    0                   0   \n",
       "25946                     0                    0                   0   \n",
       "\n",
       "       word_yellow-naped  word_yellow-shouldered  \n",
       "id                                                \n",
       "1                      0                       0  \n",
       "2                      0                       0  \n",
       "3                      0                       0  \n",
       "4                      0                       0  \n",
       "5                      0                       0  \n",
       "...                  ...                     ...  \n",
       "25942                  0                       0  \n",
       "25943                  0                       0  \n",
       "25944                  0                       0  \n",
       "25945                  0                       0  \n",
       "25946                  0                       0  \n",
       "\n",
       "[25946 rows x 163 columns]"
      ],
      "text/html": "<div>\n<style scoped>\n    .dataframe tbody tr th:only-of-type {\n        vertical-align: middle;\n    }\n\n    .dataframe tbody tr th {\n        vertical-align: top;\n    }\n\n    .dataframe thead th {\n        text-align: right;\n    }\n</style>\n<table border=\"1\" class=\"dataframe\">\n  <thead>\n    <tr style=\"text-align: right;\">\n      <th></th>\n      <th>ad_id</th>\n      <th>word_(amazona)</th>\n      <th>word_african</th>\n      <th>word_africà</th>\n      <th>word_ailes</th>\n      <th>word_all-blue</th>\n      <th>word_amazon</th>\n      <th>word_amazona</th>\n      <th>word_amazone</th>\n      <th>word_ara</th>\n      <th>...</th>\n      <th>word_versicolor</th>\n      <th>word_vert</th>\n      <th>word_vicente</th>\n      <th>word_vincent</th>\n      <th>word_yaco</th>\n      <th>word_yellow-collared</th>\n      <th>word_yellow-crested</th>\n      <th>word_yellow-headed</th>\n      <th>word_yellow-naped</th>\n      <th>word_yellow-shouldered</th>\n    </tr>\n    <tr>\n      <th>id</th>\n      <th></th>\n      <th></th>\n      <th></th>\n      <th></th>\n      <th></th>\n      <th></th>\n      <th></th>\n      <th></th>\n      <th></th>\n      <th></th>\n      <th></th>\n      <th></th>\n      <th></th>\n      <th></th>\n      <th></th>\n      <th></th>\n      <th></th>\n      <th></th>\n      <th></th>\n      <th></th>\n      <th></th>\n    </tr>\n  </thead>\n  <tbody>\n    <tr>\n      <th>1</th>\n      <td>552731_us</td>\n      <td>0</td>\n      <td>1</td>\n      <td>1</td>\n      <td>0</td>\n      <td>0</td>\n      <td>0</td>\n      <td>0</td>\n      <td>0</td>\n      <td>0</td>\n      <td>...</td>\n      <td>0</td>\n      <td>0</td>\n      <td>0</td>\n      <td>0</td>\n      <td>0</td>\n      <td>0</td>\n      <td>0</td>\n      <td>0</td>\n      <td>0</td>\n      <td>0</td>\n    </tr>\n    <tr>\n      <th>2</th>\n      <td>552645_us</td>\n      <td>0</td>\n      <td>1</td>\n      <td>1</td>\n      <td>0</td>\n      <td>0</td>\n      <td>0</td>\n      <td>0</td>\n      <td>0</td>\n      <td>0</td>\n      <td>...</td>\n      <td>0</td>\n      <td>0</td>\n      <td>0</td>\n      <td>0</td>\n      <td>0</td>\n      <td>0</td>\n      <td>0</td>\n      <td>0</td>\n      <td>0</td>\n      <td>0</td>\n    </tr>\n    <tr>\n      <th>3</th>\n      <td>552633_us</td>\n      <td>0</td>\n      <td>0</td>\n      <td>0</td>\n      <td>0</td>\n      <td>0</td>\n      <td>0</td>\n      <td>0</td>\n      <td>0</td>\n      <td>1</td>\n      <td>...</td>\n      <td>0</td>\n      <td>0</td>\n      <td>0</td>\n      <td>0</td>\n      <td>0</td>\n      <td>0</td>\n      <td>0</td>\n      <td>0</td>\n      <td>0</td>\n      <td>0</td>\n    </tr>\n    <tr>\n      <th>4</th>\n      <td>552632_us</td>\n      <td>0</td>\n      <td>0</td>\n      <td>0</td>\n      <td>0</td>\n      <td>0</td>\n      <td>1</td>\n      <td>0</td>\n      <td>0</td>\n      <td>0</td>\n      <td>...</td>\n      <td>0</td>\n      <td>0</td>\n      <td>0</td>\n      <td>0</td>\n      <td>0</td>\n      <td>0</td>\n      <td>0</td>\n      <td>0</td>\n      <td>0</td>\n      <td>0</td>\n    </tr>\n    <tr>\n      <th>5</th>\n      <td>552631_us</td>\n      <td>0</td>\n      <td>0</td>\n      <td>0</td>\n      <td>0</td>\n      <td>0</td>\n      <td>0</td>\n      <td>0</td>\n      <td>0</td>\n      <td>0</td>\n      <td>...</td>\n      <td>0</td>\n      <td>0</td>\n      <td>0</td>\n      <td>0</td>\n      <td>0</td>\n      <td>0</td>\n      <td>0</td>\n      <td>0</td>\n      <td>0</td>\n      <td>0</td>\n    </tr>\n    <tr>\n      <th>...</th>\n      <td>...</td>\n      <td>...</td>\n      <td>...</td>\n      <td>...</td>\n      <td>...</td>\n      <td>...</td>\n      <td>...</td>\n      <td>...</td>\n      <td>...</td>\n      <td>...</td>\n      <td>...</td>\n      <td>...</td>\n      <td>...</td>\n      <td>...</td>\n      <td>...</td>\n      <td>...</td>\n      <td>...</td>\n      <td>...</td>\n      <td>...</td>\n      <td>...</td>\n      <td>...</td>\n    </tr>\n    <tr>\n      <th>25942</th>\n      <td>1060_ph</td>\n      <td>0</td>\n      <td>0</td>\n      <td>0</td>\n      <td>0</td>\n      <td>0</td>\n      <td>0</td>\n      <td>0</td>\n      <td>0</td>\n      <td>0</td>\n      <td>...</td>\n      <td>0</td>\n      <td>0</td>\n      <td>0</td>\n      <td>0</td>\n      <td>0</td>\n      <td>0</td>\n      <td>0</td>\n      <td>0</td>\n      <td>0</td>\n      <td>0</td>\n    </tr>\n    <tr>\n      <th>25943</th>\n      <td>925_ph</td>\n      <td>0</td>\n      <td>0</td>\n      <td>0</td>\n      <td>0</td>\n      <td>0</td>\n      <td>0</td>\n      <td>0</td>\n      <td>0</td>\n      <td>0</td>\n      <td>...</td>\n      <td>0</td>\n      <td>0</td>\n      <td>0</td>\n      <td>0</td>\n      <td>0</td>\n      <td>0</td>\n      <td>0</td>\n      <td>0</td>\n      <td>0</td>\n      <td>0</td>\n    </tr>\n    <tr>\n      <th>25944</th>\n      <td>523_ph</td>\n      <td>0</td>\n      <td>1</td>\n      <td>1</td>\n      <td>0</td>\n      <td>0</td>\n      <td>0</td>\n      <td>0</td>\n      <td>0</td>\n      <td>0</td>\n      <td>...</td>\n      <td>0</td>\n      <td>0</td>\n      <td>0</td>\n      <td>0</td>\n      <td>0</td>\n      <td>0</td>\n      <td>0</td>\n      <td>0</td>\n      <td>0</td>\n      <td>0</td>\n    </tr>\n    <tr>\n      <th>25945</th>\n      <td>344_ph</td>\n      <td>0</td>\n      <td>1</td>\n      <td>1</td>\n      <td>0</td>\n      <td>0</td>\n      <td>0</td>\n      <td>0</td>\n      <td>0</td>\n      <td>0</td>\n      <td>...</td>\n      <td>0</td>\n      <td>0</td>\n      <td>0</td>\n      <td>0</td>\n      <td>0</td>\n      <td>0</td>\n      <td>0</td>\n      <td>0</td>\n      <td>0</td>\n      <td>0</td>\n    </tr>\n    <tr>\n      <th>25946</th>\n      <td>125_ph</td>\n      <td>0</td>\n      <td>1</td>\n      <td>1</td>\n      <td>0</td>\n      <td>0</td>\n      <td>0</td>\n      <td>0</td>\n      <td>0</td>\n      <td>0</td>\n      <td>...</td>\n      <td>0</td>\n      <td>0</td>\n      <td>0</td>\n      <td>0</td>\n      <td>0</td>\n      <td>0</td>\n      <td>0</td>\n      <td>0</td>\n      <td>0</td>\n      <td>0</td>\n    </tr>\n  </tbody>\n</table>\n<p>25946 rows × 163 columns</p>\n</div>"
     },
     "metadata": {},
     "execution_count": 5
    }
   ],
   "source": [
    "words_df=match_df[[\"ad_id\"]].join(words_df)\n",
    "# words_df.reset_index(drop=True, inplace=True)\n",
    "# words_df.index=words_df.id\n",
    "words_df"
   ]
  },
  {
   "cell_type": "code",
   "execution_count": 6,
   "metadata": {},
   "outputs": [],
   "source": [
    "words_df.to_sql(\"classification_1_analysis\", con, if_exists=\"replace\")"
   ]
  },
  {
   "cell_type": "markdown",
   "metadata": {},
   "source": [
    "# Classification 2"
   ]
  },
  {
   "cell_type": "code",
   "execution_count": 7,
   "metadata": {},
   "outputs": [],
   "source": [
    "class_2 = pd.read_sql_query(\"SELECT * from classification_2_matching_ads\", con)\n",
    "class_2.index = class_2.id\n",
    "cites = pd.read_sql_query(\"SELECT * from mapping_cites\", con)\n",
    "cites.index = cites.id\n",
    "\n"
   ]
  },
  {
   "cell_type": "code",
   "execution_count": 8,
   "metadata": {},
   "outputs": [],
   "source": [
    "class_2[\"species\"]=class_2[\"ids_matching\"]\\\n",
    "    .apply(lambda x : \";\".join([cites.at[int(_),\"scientific_name_cites\"] for _ in x.split(\";\") if (x!=\"-1\" and x!=\"-2\" and x!=\"\")]))\n",
    "species_df=class_2[\"species\"].str.get_dummies(sep=\";\").add_prefix(\"\")\n"
   ]
  },
  {
   "cell_type": "code",
   "execution_count": 9,
   "metadata": {},
   "outputs": [],
   "source": [
    "species_df=class_2[[\"ad_id\"]].join(species_df)\n",
    "\n",
    "species_df.to_sql(\"classification_2_analysis\", con, if_exists=\"replace\")"
   ]
  },
  {
   "cell_type": "markdown",
   "metadata": {},
   "source": [
    "# Classification 3"
   ]
  },
  {
   "cell_type": "code",
   "execution_count": 10,
   "metadata": {},
   "outputs": [],
   "source": [
    "class_3 = pd.read_sql_query(\"SELECT * from classification_3_matching_ads\", con)\n",
    "class_3.index = class_3.id\n",
    "cites = pd.read_sql_query(\"SELECT * from mapping_cites\", con)\n",
    "cites.index = cites.id\n",
    "\n"
   ]
  },
  {
   "cell_type": "code",
   "execution_count": 11,
   "metadata": {},
   "outputs": [],
   "source": [
    "class_3[\"species\"]=class_3[\"ids_matching\"]\\\n",
    "    .apply(lambda x : \";\".join([cites.at[int(_),\"scientific_name_cites\"] for _ in x.split(\";\") if (x!=\"-1\" and x!=\"-2\" and x!=\"\")]))\n",
    "species_df=class_3[\"species\"].str.get_dummies(sep=\";\").add_prefix(\"species_\")\n"
   ]
  },
  {
   "cell_type": "code",
   "execution_count": 12,
   "metadata": {},
   "outputs": [],
   "source": [
    "species_df=class_3[[\"ad_id\"]].join(species_df)\n",
    "\n",
    "species_df.to_sql(\"classification_3_analysis\", con, if_exists=\"replace\")"
   ]
  },
  {
   "cell_type": "code",
   "execution_count": 13,
   "metadata": {},
   "outputs": [],
   "source": [
    "# Be sure to close the connection\n",
    "con.close()"
   ]
  }
 ],
 "metadata": {
  "kernelspec": {
   "display_name": "Python 3",
   "language": "python",
   "name": "python3"
  },
  "language_info": {
   "codemirror_mode": {
    "name": "ipython",
    "version": 3
   },
   "file_extension": ".py",
   "mimetype": "text/x-python",
   "name": "python",
   "nbconvert_exporter": "python",
   "pygments_lexer": "ipython3",
   "version": "3.8.3-final"
  }
 },
 "nbformat": 4,
 "nbformat_minor": 4
}