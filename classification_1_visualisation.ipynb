{
 "cells": [
  {
   "cell_type": "code",
   "execution_count": null,
   "metadata": {},
   "outputs": [],
   "source": [
    "import pandas as pd\n",
    "import sqlite3\n",
    "import numpy as np\n",
    "import matplotlib.pyplot as plt\n",
    "%matplotlib inline\n",
    "import seaborn as sns\n",
    "import math\n",
    "from classification_1_parsing_parrotorno import make_dictionnary\n",
    "#Style of the figure\n",
    "plt.style.use('seaborn-whitegrid')"
   ]
  },
  {
   "cell_type": "code",
   "execution_count": null,
   "metadata": {},
   "outputs": [],
   "source": [
    "\n",
    "\n",
    "# Create a SQL connection to our SQLite database\n",
    "con = sqlite3.connect(\"DATABASES/project.db\")\n",
    "\n",
    "cur = con.cursor()\n",
    "\n",
    "ana_df = pd.read_sql_query(\"SELECT * from classification_1_analysis\", con)\n",
    "map_df= pd.read_sql_query(\"SELECT * from mapping_cites\", con)"
   ]
  },
  {
   "cell_type": "code",
   "execution_count": null,
   "metadata": {},
   "outputs": [],
   "source": [
    "\n",
    "bag_of_words=make_dictionnary()\n",
    "print(bag_of_words)"
   ]
  },
  {
   "cell_type": "code",
   "execution_count": null,
   "metadata": {},
   "outputs": [],
   "source": [
    "fig, axes = plt.subplots(7, 8)#,figsize= (8,6), sharey = True, sharex = True)\n",
    "\n",
    "bag_of_words=make_dictionnary()\n",
    "print(bag_of_words)\n",
    "for i in range(1,len(map_df)+1,1):\n",
    "    sbplt = axes[i%8, math.floor(i/8)]\n",
    "    words=bag_of_words[]\n",
    "    list_tot={}\n",
    "    for word in words :\n",
    "        total=ana_df[word].sum()\n",
    "        list_tot.append(total)\n",
    "    \n",
    "    sbplt.bar(words, List_tot)\n",
    "#     df = pd.DataFrame({'lab':['A', 'B', 'C'], 'val':[10, 30, 20]})\n",
    "#     sbplt = plt.plot.bar(x='lab', y='val', rot=0)\n",
    "    title=map_df.at(i, \"scientific_name_cites\")\n",
    "    sbplt.set_title(f\"{title}\")\n",
    "    plt.xlabel('Date')\n",
    "    plt.ylabel('Number of pageviews')\n",
    "fig.tight_layout(pad=2)"
   ]
  }
 ],
 "metadata": {
  "kernelspec": {
   "display_name": "Python 3",
   "language": "python",
   "name": "python3"
  },
  "language_info": {
   "codemirror_mode": {
    "name": "ipython",
    "version": 3
   },
   "file_extension": ".py",
   "mimetype": "text/x-python",
   "name": "python",
   "nbconvert_exporter": "python",
   "pygments_lexer": "ipython3",
   "version": "3.8.3"
  }
 },
 "nbformat": 4,
 "nbformat_minor": 4
}
