{
 "cells": [
  {
   "cell_type": "code",
   "execution_count": 1,
   "metadata": {},
   "outputs": [],
   "source": [
    "import pandas as pd\n",
    "import sqlite3\n",
    "import numpy as np\n",
    "import matplotlib.pyplot as plt\n",
    "%matplotlib inline\n",
    "import seaborn as sns\n",
    "from classification_1_parsing_parrotorno import make_dictionnary\n",
    "#Style of the figure\n",
    "plt.style.use('seaborn-whitegrid')"
   ]
  },
  {
   "cell_type": "code",
   "execution_count": 2,
   "metadata": {},
   "outputs": [],
   "source": [
    "\n",
    "\n",
    "# Create a SQL connection to our SQLite database\n",
    "con = sqlite3.connect(\"DATABASES/project.db\")\n",
    "\n",
    "cur = con.cursor()\n",
    "\n",
    "ana_df = pd.read_sql_query(\"SELECT * from classification_1_analysis\", con)\n",
    "map_df= pd.read_sql_query(\"SELECT * from mapping_cites\", con)"
   ]
  },
  {
   "cell_type": "code",
   "execution_count": 3,
   "metadata": {},
   "outputs": [
    {
     "output_type": "error",
     "ename": "SyntaxError",
     "evalue": "invalid syntax (<ipython-input-3-bfe56f476c0c>, line 14)",
     "traceback": [
      "\u001b[1;36m  File \u001b[1;32m\"<ipython-input-3-bfe56f476c0c>\"\u001b[1;36m, line \u001b[1;32m14\u001b[0m\n\u001b[1;33m    sbplt.set_title(f\"{map_df.at(i, \"scientific_name_cites\")}\")\u001b[0m\n\u001b[1;37m                                     ^\u001b[0m\n\u001b[1;31mSyntaxError\u001b[0m\u001b[1;31m:\u001b[0m invalid syntax\n"
     ]
    }
   ],
   "source": [
    "fig, ax = plt.subplot(7, 8,figsize= (8,6), sharey = True, sharex = True)\n",
    "\n",
    "bag_of_words=make_dictionnary()\n",
    "for i in range(1,len(map_df)+1,1):\n",
    "    sbplt = ax[i%8, math.floor(i/8)]\n",
    "    words=bag_words(i)\n",
    "    list_tot={}\n",
    "    for word in words :\n",
    "        total=ana_df[word].sum()\n",
    "        list_tot.append(total)\n",
    "    \n",
    "    sbplt.bar(words, List_tot)\n",
    "#     df = pd.DataFrame({'lab':['A', 'B', 'C'], 'val':[10, 30, 20]})\n",
    "#     sbplt = plt.plot.bar(x='lab', y='val', rot=0)\n",
    "    title=map_df.at(i, \"scientific_name_cites\")\n",
    "    sbplt.set_title(f\"{title}\")\n",
    "    plt.xlabel('Date')\n",
    "    plt.ylabel('Number of pageviews')\n",
    "fig.tight_layout(pad=2)"
   ]
  }
 ],
 "metadata": {
  "kernelspec": {
   "name": "python3",
   "display_name": "Python 3.8.5 64-bit ('IVI': conda)",
   "metadata": {
    "interpreter": {
     "hash": "33942465d93bfcc0a36934cebb6dfcc5a438f5b7ca9a5ce93027377c98e9ba41"
    }
   }
  },
  "language_info": {
   "codemirror_mode": {
    "name": "ipython",
    "version": 3
   },
   "file_extension": ".py",
   "mimetype": "text/x-python",
   "name": "python",
   "nbconvert_exporter": "python",
   "pygments_lexer": "ipython3",
   "version": "3.8.5-final"
  }
 },
 "nbformat": 4,
 "nbformat_minor": 4
}