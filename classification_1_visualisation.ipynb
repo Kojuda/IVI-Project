{
 "cells": [
  {
   "cell_type": "markdown",
   "metadata": {},
   "source": [
    "# Plot small multiple of number of words per species"
   ]
  },
  {
   "cell_type": "code",
   "execution_count": null,
   "metadata": {},
   "outputs": [],
   "source": [
    "import pandas as pd\n",
    "import sqlite3\n",
    "import matplotlib\n",
    "import matplotlib.pyplot as plt\n",
    "%matplotlib inline\n",
    "import seaborn as sns\n",
    "import math\n",
    "from classification_1_parsing_parrotorno import make_dictionnary\n",
    "\"\"\"\n",
    "Ce script permet de visualiser les occurrences des mots par espèce selon la classification 1 au format\n",
    "\"small multiples\". Les résultats sont sous la forme d'une image dans le répertoire /results/graphes\n",
    "\n",
    "\"\"\"\n",
    "sns.set(style=\"whitegrid\", color_codes=True)"
   ]
  },
  {
   "cell_type": "code",
   "execution_count": null,
   "metadata": {},
   "outputs": [],
   "source": [
    "# Create a SQL connection to our SQLite database\n",
    "con = sqlite3.connect(\"/results/DATABASES/project.db\")\n",
    "\n",
    "cur = con.cursor()\n",
    "\n",
    "ana_df = pd.read_sql_query(\"SELECT * from classification_1_analysis\", con)\n",
    "map_df= pd.read_sql_query(\"SELECT * from mapping_cites\", con)"
   ]
  },
  {
   "cell_type": "code",
   "execution_count": null,
   "metadata": {},
   "outputs": [],
   "source": [
    "%%capture\n",
    "bag_of_words=make_dictionnary();"
   ]
  },
  {
   "cell_type": "code",
   "execution_count": null,
   "metadata": {},
   "outputs": [],
   "source": [
    "\n",
    "def small_multiples_plot(Sharey=True, row=9, column=8) :\n",
    "    \"\"\"Plot all the speicies as subplots of a figure. We can change if the y-axis\n",
    "    is shared.\"\"\"\n",
    "    \n",
    "    #Set up a colormap according to the intensity of the count\n",
    "    cmap = 'coolwarm'\n",
    "    array_of_tot=ana_df.sum(axis=0)[2:].astype(int)\n",
    "    norm = plt.Normalize(array_of_tot.values.min(), array_of_tot.values.max())\n",
    "    sm = matplotlib.cm.ScalarMappable(cmap=cmap, norm=norm)\n",
    "    #Max number of words (to make the width of the bar the same)\n",
    "    maxn=11 # according to the African grey that has the most number of words that have matched\n",
    "    #Default height\n",
    "    min_highhght = 0\n",
    "    fig, axes = plt.subplots(row, column,figsize= (32,24), sharey = Sharey, sharex = False, frameon=True)\n",
    "    sns.color_palette(\"Greens_d\", 5)\n",
    "    stopwords=[\"parrot\", \"macaw\", \"parot\", \"ara\", \"amazon\", \"amazone\"]\n",
    "    for i in range(0,(column*row),1): #len(map_df)\n",
    "        #Go through all the created subplots of the figure\n",
    "        sbplt = axes[math.floor((i)/column), (i)%column]\n",
    "        #Try to delete extra subplot\n",
    "        try:\n",
    "            words=bag_of_words[i+1];\n",
    "            list_tot=[]\n",
    "            list_words=[] #Different of the provided words because not all have a match\n",
    "            for word in words :\n",
    "                #We don't want to common word and we don't want to plot the same word 2 times.\n",
    "                if (word not in list_words) and (word not in stopwords):\n",
    "                    try :\n",
    "                        total=ana_df[f\"word_{word}\"].sum()\n",
    "                        list_tot.append(total)\n",
    "                        list_words.append(word)\n",
    "                    except :\n",
    "                        pass\n",
    "                        #print(f\"Not found : {word}\")\n",
    "                else : \n",
    "                    pass\n",
    "            x = np.arange(len(list_words))\n",
    "            #Plot the barplots\n",
    "            sbplt.bar(x, height=list_tot, width=0.60, bottom=min_highhght, \n",
    "                   color=plt.get_cmap(cmap)(norm(list_tot)), linewidth=2)\n",
    "            title=map_df.at[i, \"scientific_name_cites\"]\n",
    "            sbplt.set_title(f\"{title}\")\n",
    "            sbplt.set_ylabel('Nombre de mots')\n",
    "            sbplt.set_xticks(x)\n",
    "            sbplt.set_xticklabels(list_words, rotation=45)\n",
    "            sbplt.set_xlim(-0.5,maxn-0.5)\n",
    "            # sbplt.XAxis.FontSize = 6\n",
    "            sbplt.tick_params(axis='both', which='major', labelsize=10)\n",
    "             \n",
    "        except :\n",
    "            fig.delaxes(sbplt)\n",
    "\n",
    "    plt.ylabel(\"Nombre de mots\")\n",
    "    fig.suptitle(f\"Nombre d'occurrences des mots par espèce (Y-axis shared = {Sharey})\", y=1, fontsize=30)\n",
    "    fig.tight_layout()\n",
    "    #Create a colorbar from the colormap created previously with the norm of the words\n",
    "    fig.colorbar(sm,ax=axes, pad=0.005,  aspect=100, ticks=np.arange(array_of_tot.values.min()-1,array_of_tot.values.max()+1,100))\n",
    "\n",
    "    plt.savefig(f\"./results/graphes/classification_1_small_multiples_Sharey_{Sharey}.png\", format=\"png\",bbox_inches='tight')\n"
   ]
  },
  {
   "cell_type": "code",
   "execution_count": null,
   "metadata": {},
   "outputs": [],
   "source": [
    "#Use the function with and without a shared y-axis\n",
    "small_multiples_plot(Sharey=True)\n",
    "small_multiples_plot(Sharey=False)"
   ]
  }
 ],
 "metadata": {
  "kernelspec": {
   "display_name": "Python 3",
   "language": "python",
   "name": "python3"
  },
  "language_info": {
   "codemirror_mode": {
    "name": "ipython",
    "version": 3
   },
   "file_extension": ".py",
   "mimetype": "text/x-python",
   "name": "python",
   "nbconvert_exporter": "python",
   "pygments_lexer": "ipython3",
   "version": "3.7.9"
  }
 },
 "nbformat": 4,
 "nbformat_minor": 4
}