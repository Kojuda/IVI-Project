{
 "metadata": {
  "language_info": {
   "codemirror_mode": {
    "name": "ipython",
    "version": 3
   },
   "file_extension": ".py",
   "mimetype": "text/x-python",
   "name": "python",
   "nbconvert_exporter": "python",
   "pygments_lexer": "ipython3",
   "version": "3.7.9-final"
  },
  "orig_nbformat": 2,
  "kernelspec": {
   "name": "python3",
   "display_name": "Python 3.7.9 64-bit ('IVI': conda)",
   "metadata": {
    "interpreter": {
     "hash": "dc8846f6776a64c0bc1578a11ab3292dd092059c1b24f227d2b0964084ccc8ed"
    }
   }
  }
 },
 "nbformat": 4,
 "nbformat_minor": 2,
 "cells": [
  {
   "cell_type": "code",
   "execution_count": 2,
   "metadata": {},
   "outputs": [],
   "source": [
    "import sqlite3\n",
    "import pandas as pd\n",
    "import os\n",
    "# os.chdir(os.path.dirname(r\"{}\".format(str(os.path.abspath(__file__)))))\n",
    "\n",
    "# Create a SQL connection to our SQLite database\n",
    "con = sqlite3.connect(\"DATABASES/project.db\")\n",
    "\n",
    "cur = con.cursor()"
   ]
  },
  {
   "cell_type": "code",
   "execution_count": 3,
   "metadata": {},
   "outputs": [
    {
     "output_type": "stream",
     "name": "stdout",
     "text": [
      "   id      ad_id  match_cites_parrot  match_common_parrot  \\\n0   1  552731_us                   0                    1   \n1   2  552645_us                   0                    1   \n2   3  552633_us                   0                    1   \n3   4  552632_us                   0                    1   \n4   5  552631_us                   0                    1   \n5   6  552630_us                   0                    1   \n6   7  552629_us                   0                    1   \n7   8  552628_us                   0                    1   \n8   9  552627_us                   0                    1   \n9  10  552626_us                   0                    1   \n\n                        mapping_match  \n0      10;125;270;271;272;278;298;332  \n1      10;125;270;271;272;278;298;332  \n2                  10;115;128;278;355  \n3            8;10;105;115;165;278;355  \n4                             181;355  \n5                      10;115;278;355  \n6       10;83;125;271;272;278;298;308  \n7                     125;271;272;298  \n8  10;125;128;271;272;278;298;308;311  \n9                          10;278;355  \n   id                                                reg        word\n0   1  (p+|P+){1}(s+|S+|5+){1}(i+|I+|1+){1}(t+|T+|7+)...   Psittacus\n1   2  (à+|á+|a+|A+|4+){1}(r+|R+){1}(à+|á+|a+|A+|4+){...  arausiacus\n2   3  (à+|á+|a+|A+|4+){1}(m+|M+){1}(à+|á+|a+|A+|4+){...     Amazone\n3   4  (b+|B+){1}(o+|O+|0+){1}(u+|U+){1}(q+|Q+){1}(u+...     Bouquet\n4   5               (c+|C+|ç+){1}(o+|O+|0+){1}(u+|U+){1}         cou\n5   6  (r+|R+){1}(o+|O+|0+){1}(u+|U+){1}(g+|G+){1}(è+...       rouge\n6   7  (r+|R+){1}(è+|é+|e+|E+|3+){1}(d+|D+){1}(-+|\\s+...  Red-necked\n7   8  (à+|á+|a+|A+|4+){1}(m+|M+){1}(à+|á+|a+|A+|4+){...      Amazon\n8   9  (j+|J+){1}(à+|á+|a+|A+|4+){1}(c+|C+|ç+){1}(q+|...     Jacquot\n9  10  (p+|P+){1}(à+|á+|a+|A+|4+){1}(r+|R+){1}(r+|R+)...      Parrot\n"
     ]
    }
   ],
   "source": [
    "\n",
    "# # Return all results of query\n",
    "# cur.execute('SELECT plot_id FROM plots WHERE plot_type=\"Control\"')\n",
    "# cur.fetchall()\n",
    "\n",
    "# Load the data into a DataFrame\n",
    "regex_df = pd.read_sql_query(\"SELECT * from classification_1_regex\", con)\n",
    "match_df = pd.read_sql_query(\"SELECT * from classification_1_psittaciformes_or_no\", con)\n",
    "link_df = pd.read_sql_query(\"SELECT * from classification_1_reg_map_match\", con)\n",
    "bird_or_no_df = pd.read_sql_query(\"SELECT * from classification_1_parse_bird_or_no\", con)\n",
    "\n",
    "print(match_df.head(10))\n",
    "print(regex_df.head(10))\n",
    "# # Write the new DataFrame to a new SQLite table\n",
    "# surveys2002.to_sql(\"surveys2002\", con, if_exists=\"replace\")"
   ]
  },
  {
   "cell_type": "code",
   "execution_count": 5,
   "metadata": {},
   "outputs": [
    {
     "output_type": "error",
     "ename": "TypeError",
     "evalue": "sequence item 0: expected str instance, DataFrame found",
     "traceback": [
      "\u001b[1;31m---------------------------------------------------------------------------\u001b[0m",
      "\u001b[1;31mTypeError\u001b[0m                                 Traceback (most recent call last)",
      "\u001b[1;32m<ipython-input-5-7a2fb7a90740>\u001b[0m in \u001b[0;36m<module>\u001b[1;34m\u001b[0m\n\u001b[1;32m----> 1\u001b[1;33m \u001b[0mmatch_df\u001b[0m\u001b[1;33m[\u001b[0m\u001b[1;34m\"word\"\u001b[0m\u001b[1;33m]\u001b[0m\u001b[1;33m=\u001b[0m\u001b[0mmatch_df\u001b[0m\u001b[1;33m[\u001b[0m\u001b[1;34m\"mapping_match\"\u001b[0m\u001b[1;33m]\u001b[0m\u001b[1;33m.\u001b[0m\u001b[0mapply\u001b[0m\u001b[1;33m(\u001b[0m\u001b[1;32mlambda\u001b[0m \u001b[0mx\u001b[0m \u001b[1;33m:\u001b[0m \u001b[1;34m\";\"\u001b[0m\u001b[1;33m.\u001b[0m\u001b[0mjoin\u001b[0m\u001b[1;33m(\u001b[0m\u001b[1;33m[\u001b[0m\u001b[0mregex_df\u001b[0m\u001b[1;33m[\u001b[0m\u001b[0mregex_df\u001b[0m\u001b[1;33m[\u001b[0m\u001b[1;34m\"id\"\u001b[0m\u001b[1;33m]\u001b[0m\u001b[1;33m==\u001b[0m\u001b[0mint\u001b[0m\u001b[1;33m(\u001b[0m\u001b[0m_\u001b[0m\u001b[1;33m)\u001b[0m\u001b[1;33m]\u001b[0m \u001b[1;32mfor\u001b[0m \u001b[0m_\u001b[0m \u001b[1;32min\u001b[0m \u001b[0mx\u001b[0m\u001b[1;33m.\u001b[0m\u001b[0msplit\u001b[0m\u001b[1;33m(\u001b[0m\u001b[1;34m\";\"\u001b[0m\u001b[1;33m)\u001b[0m\u001b[1;33m]\u001b[0m\u001b[1;33m)\u001b[0m\u001b[1;33m)\u001b[0m\u001b[1;33m\u001b[0m\u001b[1;33m\u001b[0m\u001b[0m\n\u001b[0m",
      "\u001b[1;32mC:\\Anaconda3\\envs\\IVI\\lib\\site-packages\\pandas\\core\\series.py\u001b[0m in \u001b[0;36mapply\u001b[1;34m(self, func, convert_dtype, args, **kwds)\u001b[0m\n\u001b[0;32m   4198\u001b[0m             \u001b[1;32melse\u001b[0m\u001b[1;33m:\u001b[0m\u001b[1;33m\u001b[0m\u001b[1;33m\u001b[0m\u001b[0m\n\u001b[0;32m   4199\u001b[0m                 \u001b[0mvalues\u001b[0m \u001b[1;33m=\u001b[0m \u001b[0mself\u001b[0m\u001b[1;33m.\u001b[0m\u001b[0mastype\u001b[0m\u001b[1;33m(\u001b[0m\u001b[0mobject\u001b[0m\u001b[1;33m)\u001b[0m\u001b[1;33m.\u001b[0m\u001b[0m_values\u001b[0m\u001b[1;33m\u001b[0m\u001b[1;33m\u001b[0m\u001b[0m\n\u001b[1;32m-> 4200\u001b[1;33m                 \u001b[0mmapped\u001b[0m \u001b[1;33m=\u001b[0m \u001b[0mlib\u001b[0m\u001b[1;33m.\u001b[0m\u001b[0mmap_infer\u001b[0m\u001b[1;33m(\u001b[0m\u001b[0mvalues\u001b[0m\u001b[1;33m,\u001b[0m \u001b[0mf\u001b[0m\u001b[1;33m,\u001b[0m \u001b[0mconvert\u001b[0m\u001b[1;33m=\u001b[0m\u001b[0mconvert_dtype\u001b[0m\u001b[1;33m)\u001b[0m\u001b[1;33m\u001b[0m\u001b[1;33m\u001b[0m\u001b[0m\n\u001b[0m\u001b[0;32m   4201\u001b[0m \u001b[1;33m\u001b[0m\u001b[0m\n\u001b[0;32m   4202\u001b[0m         \u001b[1;32mif\u001b[0m \u001b[0mlen\u001b[0m\u001b[1;33m(\u001b[0m\u001b[0mmapped\u001b[0m\u001b[1;33m)\u001b[0m \u001b[1;32mand\u001b[0m \u001b[0misinstance\u001b[0m\u001b[1;33m(\u001b[0m\u001b[0mmapped\u001b[0m\u001b[1;33m[\u001b[0m\u001b[1;36m0\u001b[0m\u001b[1;33m]\u001b[0m\u001b[1;33m,\u001b[0m \u001b[0mSeries\u001b[0m\u001b[1;33m)\u001b[0m\u001b[1;33m:\u001b[0m\u001b[1;33m\u001b[0m\u001b[1;33m\u001b[0m\u001b[0m\n",
      "\u001b[1;32mpandas\\_libs\\lib.pyx\u001b[0m in \u001b[0;36mpandas._libs.lib.map_infer\u001b[1;34m()\u001b[0m\n",
      "\u001b[1;32m<ipython-input-5-7a2fb7a90740>\u001b[0m in \u001b[0;36m<lambda>\u001b[1;34m(x)\u001b[0m\n\u001b[1;32m----> 1\u001b[1;33m \u001b[0mmatch_df\u001b[0m\u001b[1;33m[\u001b[0m\u001b[1;34m\"word\"\u001b[0m\u001b[1;33m]\u001b[0m\u001b[1;33m=\u001b[0m\u001b[0mmatch_df\u001b[0m\u001b[1;33m[\u001b[0m\u001b[1;34m\"mapping_match\"\u001b[0m\u001b[1;33m]\u001b[0m\u001b[1;33m.\u001b[0m\u001b[0mapply\u001b[0m\u001b[1;33m(\u001b[0m\u001b[1;32mlambda\u001b[0m \u001b[0mx\u001b[0m \u001b[1;33m:\u001b[0m \u001b[1;34m\";\"\u001b[0m\u001b[1;33m.\u001b[0m\u001b[0mjoin\u001b[0m\u001b[1;33m(\u001b[0m\u001b[1;33m[\u001b[0m\u001b[0mregex_df\u001b[0m\u001b[1;33m[\u001b[0m\u001b[0mregex_df\u001b[0m\u001b[1;33m[\u001b[0m\u001b[1;34m\"id\"\u001b[0m\u001b[1;33m]\u001b[0m\u001b[1;33m==\u001b[0m\u001b[0mint\u001b[0m\u001b[1;33m(\u001b[0m\u001b[0m_\u001b[0m\u001b[1;33m)\u001b[0m\u001b[1;33m]\u001b[0m \u001b[1;32mfor\u001b[0m \u001b[0m_\u001b[0m \u001b[1;32min\u001b[0m \u001b[0mx\u001b[0m\u001b[1;33m.\u001b[0m\u001b[0msplit\u001b[0m\u001b[1;33m(\u001b[0m\u001b[1;34m\";\"\u001b[0m\u001b[1;33m)\u001b[0m\u001b[1;33m]\u001b[0m\u001b[1;33m)\u001b[0m\u001b[1;33m)\u001b[0m\u001b[1;33m\u001b[0m\u001b[1;33m\u001b[0m\u001b[0m\n\u001b[0m",
      "\u001b[1;31mTypeError\u001b[0m: sequence item 0: expected str instance, DataFrame found"
     ]
    }
   ],
   "source": [
    "match_df[\"word\"]=match_df[\"mapping_match\"].apply(lambda x : \";\".join([regex_df[regex_df[\"id\"]==int(_)] for _ in x.split(\";\")]))"
   ]
  },
  {
   "cell_type": "code",
   "execution_count": null,
   "metadata": {},
   "outputs": [],
   "source": [
    "# Be sure to close the connection\n",
    "con.close()"
   ]
  }
 ]
}